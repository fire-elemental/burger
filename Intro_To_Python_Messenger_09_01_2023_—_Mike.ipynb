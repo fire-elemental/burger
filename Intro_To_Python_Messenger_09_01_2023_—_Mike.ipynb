{
  "nbformat": 4,
  "nbformat_minor": 0,
  "metadata": {
    "colab": {
      "provenance": []
    },
    "kernelspec": {
      "name": "python3",
      "display_name": "Python 3"
    },
    "language_info": {
      "name": "python"
    }
  },
  "cells": [
    {
      "cell_type": "markdown",
      "source": [
        "*   Если не успеваете — запись будет на странице ([ссылка](colab.research.google.com))\n",
        "*   Ошибки в коде? Скопируйте код из моего колаба.\n",
        "*   Непонятно, сложно? Так и должно быть!"
      ],
      "metadata": {
        "id": "cGwp50vPq6ZO"
      }
    },
    {
      "cell_type": "code",
      "execution_count": null,
      "metadata": {
        "colab": {
          "base_uri": "https://localhost:8080/"
        },
        "id": "4GKiT9qxmsxW",
        "outputId": "0e7ee9ed-9184-49d2-9a2f-30dc3afc149d"
      },
      "outputs": [
        {
          "output_type": "stream",
          "name": "stdout",
          "text": [
            "Всем приветы в этом чате\n"
          ]
        }
      ],
      "source": [
        "print(\"Всем приветы в этом чате\")"
      ]
    },
    {
      "cell_type": "code",
      "source": [
        "# \"#\" - означает комментарий\n",
        "# SyntaxError — нарушение правил написания кода () : \"\"\n",
        "# NameError — ошибка в названии переменной / функции\n",
        "# IndentationError - ошибка отступов"
      ],
      "metadata": {
        "id": "MsmyaB1Kyahf"
      },
      "execution_count": null,
      "outputs": []
    },
    {
      "cell_type": "code",
      "source": [
        "# Информация о нашем вебинаре\n",
        "speaker = \"Миша\"\n",
        "duration = 130\n",
        "duration_hours = round(duration / 60, 2)\n",
        "\n",
        "# print(speaker, duration)\n",
        "# f - форматированные строки f\" {переменная}\"\n",
        "print(f\"Наш эфир ведет {speaker}, длительность составит {duration} минут, или около {duration_hours} часов\")"
      ],
      "metadata": {
        "colab": {
          "base_uri": "https://localhost:8080/"
        },
        "id": "XsBqIAMTzWyp",
        "outputId": "aa2e6938-d940-42a7-86c2-33a9e1cba15f"
      },
      "execution_count": null,
      "outputs": [
        {
          "output_type": "stream",
          "name": "stdout",
          "text": [
            "Наш эфир ведет Миша, длительность составит 130 минут, или около 2.17 часов\n"
          ]
        }
      ]
    },
    {
      "cell_type": "code",
      "source": [
        "# Списки\n",
        "visitors = [\"Кирилл Попов\", \"Maxim G\", \"Константин Герасименко\", \"Egor Savchenko\"]\n",
        "# print(visitors)\n",
        "# print(visitors[3])\n",
        "print(visitors[1:3])"
      ],
      "metadata": {
        "colab": {
          "base_uri": "https://localhost:8080/"
        },
        "id": "s1wGh7aO0KS8",
        "outputId": "81d51607-4d52-45e9-fc5e-8eb70d8e2a07"
      },
      "execution_count": null,
      "outputs": [
        {
          "output_type": "stream",
          "name": "stdout",
          "text": [
            "['Maxim G', 'Константин Герасименко']\n"
          ]
        }
      ]
    },
    {
      "cell_type": "code",
      "source": [
        "# Словари (Dict, Dictionary, HashTable, Associative Arrays)\n",
        "# {\"ключ\":\"значение\"}\n",
        "message = {\n",
        "    \"name\": \"Майк\",\n",
        "    \"text\": \"Всем приветы в этом чате\",\n",
        "    \"time\": \"22:15\",\n",
        "}\n",
        "print(message[\"time\"])"
      ],
      "metadata": {
        "colab": {
          "base_uri": "https://localhost:8080/"
        },
        "id": "SvRpvZYY2pnl",
        "outputId": "fdd6f34d-3284-4a20-c291-a38d580d300f"
      },
      "execution_count": null,
      "outputs": [
        {
          "output_type": "stream",
          "name": "stdout",
          "text": [
            "22:15\n"
          ]
        }
      ]
    },
    {
      "cell_type": "code",
      "source": [
        "# Хранение сообщений\n",
        "# Отправка новых сообщений\n",
        "# Вывод текущих сообщений\n",
        "\n",
        "# День 1. Мессенджер внутри Колаба\n",
        "# День 2. Мессенджер в вебе (браузер)\n",
        "# День 3. Мессенджер в интернете (хостинг, публичный адрес)"
      ],
      "metadata": {
        "id": "UNO7QTFd9XMM"
      },
      "execution_count": null,
      "outputs": []
    },
    {
      "cell_type": "code",
      "source": [
        "# КОД МЕССЕНДЖЕРА\n",
        "\n",
        "# Изначально у нас пустой список сообщений\n",
        "# Все сообщения будет добавлять и читать из этого списка\n",
        "all_messages = []\n",
        "\n",
        "# .append() добавляет новый элемент в список all_messages.append(новый элемент)\n",
        "# Аргументы - то что надо знать функции чтобы выполнить свою работу\n",
        "\n",
        "# Функция добавления нового сообщения\n",
        "def add_message(sender, text):\n",
        "    # Создать новое сообщение (словарь) и добавить его в список\n",
        "    new_message = {\n",
        "        \"name\": sender,\n",
        "        \"text\": text,        \n",
        "        \"time\": \"26:89\" # ДЗ: подставить текущее время Часы:Минуты\n",
        "    }\n",
        "    all_messages.append(new_message)\n",
        "\n",
        "add_message(\"Майк\", \"Всем приветы в этом чате\")\n",
        "add_message(\"Чапа\", \"Что такое Путхон?\")\n",
        "add_message(\"Васисуалий\", \"Пайтон это очень круто, гыгыгы\")\n",
        "add_message(\"Васисуалий\", \"Пайтон это очень круто, гыгыгы\")\n",
        "add_message(\"Васисуалий\", \"Пайтон это очень круто, гыгыгы\")\n",
        "add_message(\"Васисуалий\", \"Пайтон это очень круто, гыгыгы\")\n",
        "\n",
        "# Функция для печати сообщений на экран\n",
        "def print_all_messages():\n",
        "    # Выполнить действие для каждого сообщения в списке\n",
        "    # Для каждого сообщения в списке сообщений, сделать следующее:\n",
        "    for message in all_messages:\n",
        "        name = message[\"name\"]\n",
        "        text = message[\"text\"]\n",
        "        time = message[\"time\"]\n",
        "        print(f\"— [{name}]: {text} // {time}\")\n",
        "\n",
        "print_all_messages()"
      ],
      "metadata": {
        "colab": {
          "base_uri": "https://localhost:8080/"
        },
        "id": "aCRZ7P-B-BD7",
        "outputId": "98a014c3-7c26-4e62-ff79-690b965f0f5e"
      },
      "execution_count": null,
      "outputs": [
        {
          "output_type": "stream",
          "name": "stdout",
          "text": [
            "— [Майк]: Всем приветы в этом чате // 26:89\n",
            "— [Чапа]: Что такое Путхон? // 26:89\n",
            "— [Васисуалий]: Пайтон это очень круто, гыгыгы // 26:89\n",
            "— [Васисуалий]: Пайтон это очень круто, гыгыгы // 26:89\n",
            "— [Васисуалий]: Пайтон это очень круто, гыгыгы // 26:89\n",
            "— [Васисуалий]: Пайтон это очень круто, гыгыгы // 26:89\n"
          ]
        }
      ]
    },
    {
      "cell_type": "code",
      "source": [
        "# Скачать\n",
        "# https://www.jetbrains.com/pycharm/download/#section=windows\n",
        "# https://www.python.org/downloads/"
      ],
      "metadata": {
        "id": "4Lbqe8utB2Fy"
      },
      "execution_count": null,
      "outputs": []
    },
    {
      "cell_type": "markdown",
      "source": [
        "# День 2\n",
        "\n",
        "#### Ссылки\n",
        "\n",
        "HTML-файл для интерфейса мессенджера: [chat.html](https://pastebin.com/raw/Ns3a2yer)\n",
        "\n",
        "\n",
        "Диаграмма: [miro board](https://miro.com/app/board/uXjVP8NDIzc=/?share_link_id=481605966785)\n",
        "\n",
        "\n",
        "Pycharm: [скачать](https://www.jetbrains.com/pycharm/download/)\n",
        "\n",
        "\n",
        "Python: [скачать](https://www.python.org/downloads/)"
      ],
      "metadata": {
        "id": "dTfTcJOQ0_QM"
      }
    },
    {
      "cell_type": "markdown",
      "source": [
        "# Code FROM Pycharm\n",
        "\n",
        "```python\n",
        "from flask import Flask, request, render_template\n",
        "from datetime import datetime\n",
        "\n",
        "app = Flask(__name__)\n",
        "\n",
        "\n",
        "# Как только кто-то открывает раздел \"/\" => выполняется функция main_page,\n",
        "# а ее результат отобразится в браузере\n",
        "@app.route(\"/\")\n",
        "def main_page():\n",
        "    return \"Hello, welcome to Skillbox Chat!!!!!!!!!\"\n",
        "\n",
        "\n",
        "# Изначально у нас пустой список сообщений\n",
        "# Все сообщения будет добавлять и читать из этого списка\n",
        "all_messages = []\n",
        "\n",
        "\n",
        "# .append() добавляет новый элемент в список all_messages.append(новый элемент)\n",
        "# Аргументы - то что надо знать функции чтобы выполнить свою работу\n",
        "\n",
        "# Функция добавления нового сообщения\n",
        "def add_message(sender, text):\n",
        "    # Создать новое сообщение (словарь) и добавить его в список\n",
        "    new_message = {\n",
        "        \"name\": sender,\n",
        "        \"text\": text,\n",
        "        \"time\": datetime.now().strftime(\"%H:%M\")\n",
        "    }\n",
        "    all_messages.append(new_message)\n",
        "\n",
        "\n",
        "@app.route(\"/get_messages\")\n",
        "def get_messages():\n",
        "    return {\"messages\": all_messages}  # Сообщения отобразятся в браузере в формате JSON\n",
        "\n",
        "\n",
        "# HTTP-GET запрос\n",
        "# /send_message?name=Mike&text=Hello\n",
        "@app.route(\"/send_message\")\n",
        "def send_message():\n",
        "    name = request.args.get(\"name\")\n",
        "    text = request.args.get(\"text\")\n",
        "    add_message(name, text)\n",
        "    # ДЗ: Добавить проверку имени и текста и выдавать ошибку\n",
        "    return \"Message Sent\"\n",
        "\n",
        "\n",
        "@app.route(\"/chat\")\n",
        "def chat_page():\n",
        "    return render_template(\"chat.html\")\n",
        "\n",
        "\n",
        "# Сохранение и загрузка сообщений из файла: Завтра\n",
        "\n",
        "app.run(debug=True)\n",
        "\n",
        "```"
      ],
      "metadata": {
        "id": "9d-EO08P_6D-"
      }
    },
    {
      "cell_type": "code",
      "source": [],
      "metadata": {
        "id": "TKS5RziV1X5J"
      },
      "execution_count": null,
      "outputs": []
    }
  ]
}